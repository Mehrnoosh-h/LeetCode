{
 "cells": [
  {
   "cell_type": "code",
   "execution_count": 9,
   "id": "f4b7ff2a",
   "metadata": {},
   "outputs": [],
   "source": [
    "import math\n",
    "from array import array\n",
    "import numpy as np"
   ]
  },
  {
   "cell_type": "code",
   "execution_count": 4,
   "id": "087ea278",
   "metadata": {},
   "outputs": [],
   "source": [
    "# Roman Numbers:\n",
    "\n",
    "roman = {'I':1, 'V':5, 'X':10, 'L':50, 'C':100, 'D':500, 'M':1000}\n",
    "\n",
    "def RomanToInt (s):\n",
    "        n = len(s)\n",
    "        num = roman[s[n-1]]\n",
    "        \n",
    "        for i in range(n-2, -1, -1):\n",
    "            if roman[s[i]] >= roman[s[i+1]]:\n",
    "                num += roman[s[i]]\n",
    "            else:\n",
    "                num -= roman[s[i]]\n",
    "        return num      \n"
   ]
  },
  {
   "cell_type": "code",
   "execution_count": 5,
   "id": "662cecc8",
   "metadata": {},
   "outputs": [
    {
     "name": "stdout",
     "output_type": "stream",
     "text": [
      "MCMXCIV = 1994\n",
      "IV= 4\n",
      "VI= 6\n",
      "XC= 90\n",
      "110\n",
      "400\n",
      "900\n",
      "9\n",
      "11\n",
      "1\n",
      "47\n",
      "80\n",
      "1900\n",
      "58\n",
      "3\n"
     ]
    }
   ],
   "source": [
    "print ('MCMXCIV =', RomanToInt(s ='MCMXCIV'))\n",
    "print ('IV=', RomanToInt('IV'))\n",
    "print ('VI=', RomanToInt('VI'))\n",
    "print ('XC=', RomanToInt(s ='XC'))\n",
    "print (RomanToInt(s ='CX'))\n",
    "\n",
    "print (RomanToInt(s ='CD'))\n",
    "print (RomanToInt(s ='CM'))\n",
    "\n",
    "print (RomanToInt(s ='IX'))\n",
    "print (RomanToInt(s ='XI'))\n",
    "print (RomanToInt(s ='I'))\n",
    "\n",
    "print (RomanToInt(s ='XLVII'))\n",
    "print (RomanToInt(s ='LXXX'))\n",
    "print (RomanToInt(s ='MCM'))\n",
    "print (RomanToInt(s ='LVIII'))\n",
    "print (RomanToInt(s ='III'))"
   ]
  },
  {
   "cell_type": "code",
   "execution_count": 120,
   "id": "40d150eb",
   "metadata": {},
   "outputs": [
    {
     "name": "stdout",
     "output_type": "stream",
     "text": [
      "Buzz\n",
      "Fizz Buzz\n",
      "0\n",
      "Fizz\n",
      "2\n",
      "22\n"
     ]
    }
   ],
   "source": [
    "# Fizz Buzz\n",
    "\n",
    "def FizzBuzz(n):\n",
    "    if n >= 15 and n % 15 == 0:\n",
    "        a = 'Fizz Buzz'\n",
    "    elif n >= 5 and n % 5 == 0:\n",
    "        a = 'Buzz'\n",
    "    elif n >= 3 and n % 3 == 0:\n",
    "        a = 'Fizz'\n",
    "    else:\n",
    "        a = str(n)\n",
    "    return a\n",
    "\n",
    "print(FizzBuzz(10))\n",
    "print(FizzBuzz(30))\n",
    "print(FizzBuzz(0))\n",
    "print(FizzBuzz(9))\n",
    "print(FizzBuzz(2)) \n",
    "print(FizzBuzz(22))"
   ]
  },
  {
   "cell_type": "code",
   "execution_count": 89,
   "id": "ad08e46f",
   "metadata": {},
   "outputs": [],
   "source": [
    "#  Given an integer n, return the number of prime numbers that are strictly less than n.\n",
    "\n",
    "def isPrime(self, n):\n",
    "    prime = True\n",
    "    q = int(math.sqrt(n))+1\n",
    "    for i in range(2, q):\n",
    "        if n % i == 0:\n",
    "            prime = False\n",
    "            break\n",
    "    return prime      \n",
    "\n",
    "\n",
    "def CountPrime(self, number):\n",
    "    count = 0\n",
    "    for i in range(2 , number):\n",
    "        if isPrime(i)== True:\n",
    "            count += 1\n",
    "    return count    "
   ]
  },
  {
   "cell_type": "code",
   "execution_count": 88,
   "id": "b7ff4d0f",
   "metadata": {},
   "outputs": [
    {
     "name": "stdout",
     "output_type": "stream",
     "text": [
      "2\n",
      "3\n",
      "4\n",
      "4\n",
      "5\n",
      "6\n",
      "True\n",
      "True\n",
      "False\n",
      "True\n",
      "False\n",
      "True\n",
      "False\n",
      "False\n",
      "False\n",
      "True\n",
      "False\n",
      "True\n",
      "False\n",
      "False\n",
      "False\n",
      "True\n"
     ]
    }
   ],
   "source": [
    "print(CountPrime(5))\n",
    "print(CountPrime(7))\n",
    "print(CountPrime(8))\n",
    "print(CountPrime(10))\n",
    "print(CountPrime(12))\n",
    "print(CountPrime(14))\n",
    "\n",
    "print (isPrime(2))\n",
    "print (isPrime(3))\n",
    "print (isPrime(4))\n",
    "print (isPrime(5))\n",
    "print (isPrime(6))\n",
    "print (isPrime(7))\n",
    "print (isPrime(8))\n",
    "print (isPrime(9))\n",
    "print (isPrime(10))\n",
    "print (isPrime(11))\n",
    "print (isPrime(12))\n",
    "print (isPrime(13))\n",
    "print (isPrime(14))\n",
    "print (isPrime(15))\n",
    "print (isPrime(16))\n",
    "print (isPrime(17))\n"
   ]
  },
  {
   "cell_type": "code",
   "execution_count": 104,
   "id": "5935c2ae",
   "metadata": {},
   "outputs": [],
   "source": [
    "# Given an integer n, return true if it is a power of three. Otherwise, return false.\n",
    "# An integer n is a power of three, if there exists an integer x such that n == 3x.\n",
    "\n",
    "def PowerThree (self, n):\n",
    "    y= n**(1/3)\n",
    "    y_int = y.is_integer()\n",
    "    return y_int      \n",
    "             "
   ]
  },
  {
   "cell_type": "code",
   "execution_count": 107,
   "id": "dabb0eb7",
   "metadata": {},
   "outputs": [
    {
     "name": "stdout",
     "output_type": "stream",
     "text": [
      "False\n",
      "False\n",
      "False\n",
      "False\n",
      "True\n",
      "False\n",
      "True\n",
      "True\n"
     ]
    }
   ],
   "source": [
    "print(PowerThree(9))\n",
    "print(PowerThree(10))\n",
    "print(PowerThree(25))\n",
    "print(PowerThree(30))\n",
    "print(PowerThree(27))\n",
    "print(PowerThree(81))\n",
    "print(PowerThree(125))\n",
    "print(PowerThree(1))\n",
    "\n"
   ]
  },
  {
   "cell_type": "code",
   "execution_count": 212,
   "id": "b9e9af48",
   "metadata": {},
   "outputs": [
    {
     "data": {
      "text/plain": [
       "(9, array([0, 0, 0, 0, 1, 2, 3, 5, 7], dtype=int32))"
      ]
     },
     "execution_count": 212,
     "metadata": {},
     "output_type": "execute_result"
    }
   ],
   "source": [
    "#Remove Duplicates from Sorted Array\n",
    "from array import array\n",
    "import numpy as np\n",
    "\n",
    "def RemoveDuplicate(self, arr):\n",
    "    arr = np.sort(arr) \n",
    "    for i in range(len(arr)-1):\n",
    "        if arr[i]==arr[i+1]:\n",
    "            arr[i+1] = 0\n",
    "            arr = np.sort(arr) \n",
    "    return len(arr) , arr\n",
    "\n",
    "\n",
    "c = array('i', [1,1,3,3,3,7,5,2,7])\n",
    "RemoveDuplicate(c)\n"
   ]
  },
  {
   "cell_type": "code",
   "execution_count": 222,
   "id": "c71bd315",
   "metadata": {},
   "outputs": [
    {
     "name": "stdout",
     "output_type": "stream",
     "text": [
      "[1, 1, 2, 3, 3, 3, 5, 7, 7]\n"
     ]
    },
    {
     "data": {
      "text/plain": [
       "(9, [0, 0, 0, 0, 1, 2, 3, 5, 7])"
      ]
     },
     "execution_count": 222,
     "metadata": {},
     "output_type": "execute_result"
    }
   ],
   "source": [
    "def RemoveDuplicate(self, l):\n",
    "    l.sort() \n",
    "    for i in range(len(l)-1):\n",
    "        if l[i] == l[i+1]:\n",
    "            l[i+1] =0\n",
    "            l.sort() \n",
    "    return len(l) , l\n",
    "\n",
    "\n",
    "c = [1,1,3,3,3,7,5,2,7]\n",
    "c.sort()\n",
    "print(c)\n",
    "RemoveDuplicate(c)"
   ]
  },
  {
   "cell_type": "code",
   "execution_count": 223,
   "id": "6900be1a",
   "metadata": {},
   "outputs": [
    {
     "name": "stdout",
     "output_type": "stream",
     "text": [
      "[1, 1, 2, 3, 3, 3, 5, 7, 7]\n"
     ]
    }
   ],
   "source": [
    "c = [1,1,3,3,3,7,5,2,7]\n",
    "c.sort()\n",
    "print(c)"
   ]
  },
  {
   "cell_type": "code",
   "execution_count": 235,
   "id": "940085d5",
   "metadata": {},
   "outputs": [],
   "source": [
    "# class RemoveDuplicatesFromSortedArray:\n",
    "def removeDuplicates(self, nums):\n",
    "    count = 0\n",
    "    for i in range(len(nums)):\n",
    "        if i < len(nums) - 2 and nums[i] == nums[i + 1]:\n",
    "            continue\n",
    "        nums[count] = nums[i]\n",
    "        count += 1\n",
    "    return count"
   ]
  },
  {
   "cell_type": "code",
   "execution_count": 237,
   "id": "c9c5fab2",
   "metadata": {},
   "outputs": [
    {
     "data": {
      "text/plain": [
       "6"
      ]
     },
     "execution_count": 237,
     "metadata": {},
     "output_type": "execute_result"
    }
   ],
   "source": [
    "c = [1,1,3,3,3,7,5,2,7]\n",
    "\n",
    "removeDuplicates(c)"
   ]
  },
  {
   "cell_type": "code",
   "execution_count": 239,
   "id": "94d9defa",
   "metadata": {},
   "outputs": [],
   "source": [
    "# Best Time to Buy and Sell Stock II\n",
    "#You are given an integer array prices where prices[i] is the price of a given stock on the ith day.\n",
    "# On each day, you may decide to buy and/or sell the stock. You can only hold at most one share of the stock at any time. \n",
    "# However, you can buy it then immediately sell it on the same day.\n",
    "# Find and return the maximum profit you can achieve.\n",
    "\n",
    "def BestTime(self, prices):\n",
    "    profit = 0\n",
    "    for i in range(len(prices)-1):\n",
    "        if prices[i]< prices[i+1]:\n",
    "            profit += (prices[i+1] - prices[i])\n",
    "    return profit"
   ]
  },
  {
   "cell_type": "code",
   "execution_count": 242,
   "id": "4e8d1574",
   "metadata": {},
   "outputs": [
    {
     "name": "stdout",
     "output_type": "stream",
     "text": [
      "7\n"
     ]
    }
   ],
   "source": [
    "prices = [7,1,5,3,6,4]\n",
    "print(BestTime(prices))"
   ]
  },
  {
   "cell_type": "code",
   "execution_count": 244,
   "id": "4192a689",
   "metadata": {},
   "outputs": [
    {
     "name": "stdout",
     "output_type": "stream",
     "text": [
      "4\n"
     ]
    }
   ],
   "source": [
    "prices = [1,2,3,4,5]\n",
    "print(BestTime(prices))"
   ]
  },
  {
   "cell_type": "code",
   "execution_count": 249,
   "id": "10dd3e0d",
   "metadata": {},
   "outputs": [
    {
     "name": "stdout",
     "output_type": "stream",
     "text": [
      "0\n"
     ]
    },
    {
     "data": {
      "text/plain": [
       "1"
      ]
     },
     "execution_count": 249,
     "metadata": {},
     "output_type": "execute_result"
    }
   ],
   "source": [
    "prices = [7,6,4,3,1]\n",
    "print(BestTime(prices))\n",
    "prices[len(prices)-1]"
   ]
  },
  {
   "cell_type": "code",
   "execution_count": 268,
   "id": "ceb87169",
   "metadata": {},
   "outputs": [],
   "source": [
    "# Rotate Array\n",
    "# Given an array, rotate the array to the right by k steps, where k is non-negative.\n",
    "\n",
    "def RotateK(self, nums, k):\n",
    "    n = len(nums)\n",
    "    for j in range(1,k+1):\n",
    "        a = nums[n-1]\n",
    "        for i in range(1,n):\n",
    "            nums[n-i] = nums[n-i-1]\n",
    "        nums[0] = a\n",
    "    return nums"
   ]
  },
  {
   "cell_type": "code",
   "execution_count": 270,
   "id": "dc699dac",
   "metadata": {},
   "outputs": [
    {
     "name": "stdout",
     "output_type": "stream",
     "text": [
      "[3, 1, 7, 6, 4]\n",
      "[5, 6, 7, 1, 2, 3, 4]\n"
     ]
    }
   ],
   "source": [
    "nums = [7,6,4,3,1]\n",
    "print(RotateK(nums, 2))\n",
    "\n",
    "nums = [1,2,3,4,5,6,7]\n",
    "print(RotateK(nums, 3))"
   ]
  },
  {
   "cell_type": "code",
   "execution_count": 281,
   "id": "8a6ed1d2",
   "metadata": {},
   "outputs": [],
   "source": [
    "#Contains Dupliate\n",
    "# Given an integer array nums, return true if any value appears at least twice in the array,\n",
    "# and return false if every element is distinct.\n",
    "\n",
    "def ContainsDupliate(self, nums):\n",
    "    output = False\n",
    "    n = len(nums)\n",
    "    for i in range(n):\n",
    "        for j in range (i+1 , n-i):\n",
    "            if nums[i]== nums[i+j]:\n",
    "                output = True \n",
    "    return output        "
   ]
  },
  {
   "cell_type": "code",
   "execution_count": 287,
   "id": "d3b69868",
   "metadata": {},
   "outputs": [
    {
     "name": "stdout",
     "output_type": "stream",
     "text": [
      "True\n",
      "True\n",
      "False\n"
     ]
    }
   ],
   "source": [
    "nums = [1,2,3,1]\n",
    "print(ContainsDupliate(nums))\n",
    "\n",
    "nums = [1,1,1,3,3,4,3,2,4,2]\n",
    "print(ContainsDupliate(nums))\n",
    "\n",
    "nums = [1,2,3,4]\n",
    "print(ContainsDupliate(nums))"
   ]
  },
  {
   "cell_type": "code",
   "execution_count": 357,
   "id": "6ec2a09f",
   "metadata": {},
   "outputs": [],
   "source": [
    "# Single Number\n",
    "# Given a non-empty array of integers nums, every element appears twice except for one. Find that single one.\n",
    "# You must implement a solution with a linear runtime complexity and use only constant extra space.\n",
    "\n",
    "# if we have one single number in the list\n",
    "def SingleNumber(nums):\n",
    "    for num in nums:\n",
    "        if nums.count(num) == 1:\n",
    "            return num"
   ]
  },
  {
   "cell_type": "code",
   "execution_count": 359,
   "id": "ecd6e67e",
   "metadata": {},
   "outputs": [],
   "source": [
    "# if we have more than one single number in the list\n",
    "\n",
    "def SingleNumber(nums):\n",
    "    output = []\n",
    "    for num in nums:\n",
    "        if nums.count(num) == 1:\n",
    "            output.append(num)\n",
    "    return output"
   ]
  },
  {
   "cell_type": "code",
   "execution_count": 360,
   "id": "97230065",
   "metadata": {},
   "outputs": [
    {
     "name": "stdout",
     "output_type": "stream",
     "text": [
      "[1, 3]\n",
      "[4]\n",
      "[1]\n"
     ]
    }
   ],
   "source": [
    "nums = [2,2,1,3]\n",
    "print(SingleNumber(nums))\n",
    "\n",
    "nums = [4,1,2,1,2]\n",
    "print(SingleNumber(nums))\n",
    "\n",
    "nums = [1]\n",
    "print(SingleNumber(nums))"
   ]
  },
  {
   "cell_type": "code",
   "execution_count": 343,
   "id": "d4a4f27a",
   "metadata": {},
   "outputs": [],
   "source": [
    "# Intersection of Two Arrays II\n",
    "# Given two integer arrays nums1 and nums2, return an array of their intersection. \n",
    "# Each element in the result must appear as many times as it shows in both arrays and you may return the result in any order.\n",
    "\n",
    "def intersect(nums1, nums2):\n",
    "    dict1 = {}\n",
    "    dict2 = {}\n",
    "    output = []\n",
    "    for num in nums1:\n",
    "        dict1[num]= nums1.count(num)\n",
    "    for num in nums2:\n",
    "        dict2[num] = nums2.count(num)\n",
    "    for key in dict1:\n",
    "        if key in dict2:\n",
    "            for i in range(min(dict1[key], dict2[key])):\n",
    "                output.append(key)\n",
    "    return output\n",
    "    "
   ]
  },
  {
   "cell_type": "code",
   "execution_count": 344,
   "id": "fded27c2",
   "metadata": {},
   "outputs": [
    {
     "name": "stdout",
     "output_type": "stream",
     "text": [
      "[2, 2, 3, 4, 4, 5, 7, 7, 7]\n"
     ]
    }
   ],
   "source": [
    "\n",
    "nums1 = [1,2,2,1,3,4, 4,4, 5,6, 7,7, 7, 7]\n",
    "nums2 = [2,2, 3, 4, 4, 5, 7, 7, 7]\n",
    "print(intersect(nums1,nums2))"
   ]
  },
  {
   "cell_type": "code",
   "execution_count": 16,
   "id": "db95ec37",
   "metadata": {},
   "outputs": [],
   "source": [
    "# Plus One\n",
    "# You are given a large integer represented as an integer array digits, where each digits[i] \n",
    "# is the ith digit of the integer. The digits are ordered from most significant to least significant in left-to-right order. \n",
    "# The large integer does not contain any leading 0's.\n",
    "# Increment the large integer by one and return the resulting array of digits.\n",
    "\n",
    "def PlusOne(num):\n",
    "    n = len(num)\n",
    "    num[n-1]= num[n-1]+1\n",
    "    for i in range(n-1,-1,-1):\n",
    "        if i != 0:\n",
    "            if num[i] == 10:\n",
    "                num[i]= 0\n",
    "                num[i-1]= num[i-1]+1\n",
    "        else:\n",
    "            if num[0]==10:\n",
    "                num.insert(0, 1)\n",
    "#               num=[1]+num\n",
    "                num[1]=0\n",
    "    return num\n",
    "     "
   ]
  },
  {
   "cell_type": "code",
   "execution_count": 17,
   "id": "508c9b52",
   "metadata": {},
   "outputs": [
    {
     "name": "stdout",
     "output_type": "stream",
     "text": [
      "[1, 2, 4]\n",
      "[4, 3, 2, 2]\n",
      "[4, 3, 3, 0]\n",
      "[4, 4, 0, 0]\n",
      "[1, 0, 0]\n"
     ]
    }
   ],
   "source": [
    "num = [1,2,3]\n",
    "print(PlusOne(num))\n",
    "\n",
    "num= [4,3,2,1]\n",
    "print(PlusOne(num))\n",
    "\n",
    "num= [4,3,2,9]\n",
    "print(PlusOne(num))\n",
    "\n",
    "num= [4,3,9,9]\n",
    "print(PlusOne(num))\n",
    "\n",
    "num= [9,9]\n",
    "print(PlusOne(num))\n"
   ]
  },
  {
   "cell_type": "code",
   "execution_count": 43,
   "id": "8684de97",
   "metadata": {},
   "outputs": [],
   "source": [
    "# Move Zeroes\n",
    "# Given an integer array nums, move all 0's to the end of it while maintaining the relative order of the non-zero elements.\n",
    "# Note that you must do this in-place without making a copy of the array.\n",
    "# first solution:\n",
    "def MoveZeros(nums):\n",
    "    n = nums.count(0)\n",
    "    for i in range(n):\n",
    "        nums.remove(0)\n",
    "    nums += ([0] * n)\n",
    "    return nums\n"
   ]
  },
  {
   "cell_type": "code",
   "execution_count": 44,
   "id": "6c3400d4",
   "metadata": {},
   "outputs": [
    {
     "name": "stdout",
     "output_type": "stream",
     "text": [
      "[1, 3, 12, 0, 0]\n"
     ]
    }
   ],
   "source": [
    "nums = [0,1,0,3,12]\n",
    "print(MoveZeros(nums))"
   ]
  },
  {
   "cell_type": "code",
   "execution_count": 46,
   "id": "d429cbe2",
   "metadata": {},
   "outputs": [],
   "source": [
    "# Move Zeroes\n",
    "#second solution:\n",
    "\n",
    "def MoveZeros2(nums):\n",
    "    n = len(nums)\n",
    "    for i in range(n):\n",
    "        if nums[i]== 0:\n",
    "            nums.pop(i)\n",
    "            nums.append(0)\n",
    "    return nums"
   ]
  },
  {
   "cell_type": "code",
   "execution_count": 48,
   "id": "a005d4f8",
   "metadata": {},
   "outputs": [
    {
     "name": "stdout",
     "output_type": "stream",
     "text": [
      "[1, 3, 12, 0, 0]\n"
     ]
    }
   ],
   "source": [
    "nums = [0,1,0,3,12]\n",
    "print(MoveZeros2(nums))"
   ]
  },
  {
   "cell_type": "code",
   "execution_count": 51,
   "id": "5dc3eaab",
   "metadata": {},
   "outputs": [],
   "source": [
    "# Two Sum\n",
    "# Given an array of integers nums and an integer target, return indices of the two numbers such that they add up to target.\n",
    "# You may assume that each input would have exactly one solution, and you may not use the same element twice.\n",
    "# You can return the answer in any order.\n",
    "\n",
    "def TwoSum(nums, target):\n",
    "    n = len(nums)\n",
    "    for i in range(n):\n",
    "        for j in range(i+1 ,n ):\n",
    "            if nums[j]==target - nums[i]:\n",
    "                return [i,j]\n"
   ]
  },
  {
   "cell_type": "code",
   "execution_count": 54,
   "id": "33e79fb4",
   "metadata": {},
   "outputs": [
    {
     "name": "stdout",
     "output_type": "stream",
     "text": [
      "[0, 1]\n"
     ]
    }
   ],
   "source": [
    "nums = [2,7,11,15]\n",
    "target = 9\n",
    "print(TwoSum(nums, target))"
   ]
  },
  {
   "cell_type": "code",
   "execution_count": 56,
   "id": "45f80ff5",
   "metadata": {},
   "outputs": [
    {
     "name": "stdout",
     "output_type": "stream",
     "text": [
      "[1, 2]\n"
     ]
    }
   ],
   "source": [
    "nums = [3,2,4]\n",
    "target = 6\n",
    "print(TwoSum(nums, target))\n"
   ]
  },
  {
   "cell_type": "code",
   "execution_count": 1,
   "id": "8b95bab0",
   "metadata": {},
   "outputs": [],
   "source": [
    "# Valid Sudoku\n",
    "# Determine if a 9 x 9 Sudoku board is valid. Only the filled cells need to be validated according to the following rules:\n",
    "# Each row must contain the digits 1-9 without repetition.\n",
    "# Each column must contain the digits 1-9 without repetition.\n",
    "# Each of the nine 3 x 3 sub-boxes of the grid must contain the digits 1-9 without repetition.\n",
    "# A Sudoku board (partially filled) could be valid but is not necessarily solvable.\n",
    "# Only the filled cells need to be validated according to the mentioned rules.\n",
    "def ValidSudoku(s):\n",
    "    valid = True\n",
    "    for i in range(9):\n",
    "        for j in range(9):\n",
    "            if s[i][j]!= '.':\n",
    "                if s[i].count(s[i][j])>1 :\n",
    "                    valid =False\n",
    "                if s[j].count(s[i][j])>1 :\n",
    "                    valid =False\n",
    "\n",
    "#     for j in range(9):\n",
    "#         for i in range(9):\n",
    "#             if s[i][j]!= '.':\n",
    "#                 if s[j].count(s[i][j])>1 :\n",
    "#                     valid =False\n",
    "    x =[]                \n",
    "    for i in range(0, 9, 3):\n",
    "        for j in range(0, 9, 3):\n",
    "            if s[i][j]!= '.':\n",
    "                x.append(s[i][j])\n",
    "    for i in range(len(x)):\n",
    "        if (x.count(x[i]))!=1 :\n",
    "            valid =False\n",
    "    return valid\n"
   ]
  },
  {
   "cell_type": "code",
   "execution_count": 2,
   "id": "6df08623",
   "metadata": {},
   "outputs": [
    {
     "name": "stdout",
     "output_type": "stream",
     "text": [
      "True\n"
     ]
    }
   ],
   "source": [
    "s = [[\"5\",\"3\",\".\",\".\",\"7\",\".\",\".\",\".\",\".\"]\n",
    ",[\"6\",\".\",\".\",\"1\",\"9\",\"5\",\".\",\".\",\".\"]\n",
    ",[\".\",\"9\",\"8\",\".\",\".\",\".\",\".\",\"6\",\".\"]\n",
    ",[\"8\",\".\",\".\",\".\",\"6\",\".\",\".\",\".\",\"3\"]\n",
    ",[\"4\",\".\",\".\",\"8\",\".\",\"3\",\".\",\".\",\"1\"]\n",
    ",[\"7\",\".\",\".\",\".\",\"2\",\".\",\".\",\".\",\"6\"]\n",
    ",[\".\",\"6\",\".\",\".\",\".\",\".\",\"2\",\"8\",\".\"]\n",
    ",[\".\",\".\",\".\",\"4\",\"1\",\"9\",\".\",\".\",\"5\"]\n",
    ",[\".\",\".\",\".\",\".\",\"8\",\".\",\".\",\"7\",\"9\"]]\n",
    "\n",
    "print( ValidSudoku(s))"
   ]
  },
  {
   "cell_type": "code",
   "execution_count": 3,
   "id": "09c7e1db",
   "metadata": {},
   "outputs": [
    {
     "name": "stdout",
     "output_type": "stream",
     "text": [
      "False\n"
     ]
    }
   ],
   "source": [
    " s = [[\"8\",\"3\",\".\",\".\",\"7\",\".\",\".\",\".\",\".\"]\n",
    ",[\"6\",\".\",\".\",\"1\",\"9\",\"5\",\".\",\".\",\".\"]\n",
    ",[\".\",\"9\",\"8\",\".\",\".\",\".\",\".\",\"6\",\".\"]\n",
    ",[\"8\",\".\",\".\",\".\",\"6\",\".\",\".\",\".\",\"3\"]\n",
    ",[\"4\",\".\",\".\",\"8\",\".\",\"3\",\".\",\".\",\"1\"]\n",
    ",[\"7\",\".\",\".\",\".\",\"2\",\".\",\".\",\".\",\"6\"]\n",
    ",[\".\",\"6\",\".\",\".\",\".\",\".\",\"2\",\"8\",\".\"]\n",
    ",[\".\",\".\",\".\",\"4\",\"1\",\"9\",\".\",\".\",\"5\"]\n",
    ",[\".\",\".\",\".\",\".\",\"8\",\".\",\".\",\"7\",\"9\"]]\n",
    "print( ValidSudoku(s))"
   ]
  },
  {
   "cell_type": "code",
   "execution_count": 183,
   "id": "66508b7f",
   "metadata": {},
   "outputs": [],
   "source": [
    "# Rotate Image\n",
    "# You are given an n x n 2D matrix representing an image, rotate the image by 90 degrees (clockwise).\n",
    "# You have to rotate the image in-place, which means you have to modify the input 2D matrix directly.\n",
    "# DO NOT allocate another 2D matrix and do the rotation.\n",
    "\n",
    "def RotateImage(x):\n",
    "    n = len(x)\n",
    "    x.reverse()\n",
    "    for i in range(n):\n",
    "        for j in range(i):\n",
    "            x[i][j], x[j][i] = x[j][i], x[i][j]         \n",
    "    return x"
   ]
  },
  {
   "cell_type": "code",
   "execution_count": 173,
   "id": "e0c8c57f",
   "metadata": {},
   "outputs": [
    {
     "name": "stdout",
     "output_type": "stream",
     "text": [
      "[[7, 4, 1], [8, 5, 2], [9, 6, 3]]\n"
     ]
    }
   ],
   "source": [
    "x = [[1,2,3],[4,5,6],[7,8,9]]\n",
    "print(RotateImage(x))"
   ]
  },
  {
   "cell_type": "code",
   "execution_count": 175,
   "id": "9c6f964c",
   "metadata": {},
   "outputs": [
    {
     "name": "stdout",
     "output_type": "stream",
     "text": [
      "[[15, 13, 2, 5], [14, 3, 4, 1], [12, 6, 8, 9], [16, 7, 10, 11]]\n"
     ]
    }
   ],
   "source": [
    "x = [[5,1,9,11],[2,4,8,10],[13,3,6,7],[15,14,12,16]]\n",
    "print(RotateImage(x))"
   ]
  },
  {
   "cell_type": "code",
   "execution_count": 182,
   "id": "caf4005e",
   "metadata": {},
   "outputs": [
    {
     "name": "stdout",
     "output_type": "stream",
     "text": [
      "[[7, 8, 9], [4, 5, 6], [1, 2, 3]]\n"
     ]
    }
   ],
   "source": [
    "x = [[1,2,3],[4,5,6],[7,8,9]]\n",
    "x.reverse()\n",
    "print(x)"
   ]
  },
  {
   "cell_type": "code",
   "execution_count": 190,
   "id": "41117202",
   "metadata": {},
   "outputs": [],
   "source": [
    "# Reverse String\n",
    "# Write a function that reverses a string. The input string is given as an array of characters s.\n",
    "# You must do this by modifying the input array in-place with O(1) extra memory.\n",
    "\n",
    "def ReverseString(s):\n",
    "    s[:] = s[::-1]\n",
    "    return s"
   ]
  },
  {
   "cell_type": "code",
   "execution_count": 192,
   "id": "73d19faa",
   "metadata": {},
   "outputs": [
    {
     "name": "stdout",
     "output_type": "stream",
     "text": [
      "['o', 'l', 'l', 'e', 'h']\n"
     ]
    }
   ],
   "source": [
    "s = [\"h\",\"e\",\"l\",\"l\",\"o\"]\n",
    "print(ReverseString(s))"
   ]
  },
  {
   "cell_type": "code",
   "execution_count": 194,
   "id": "61dbc9a1",
   "metadata": {},
   "outputs": [
    {
     "name": "stdout",
     "output_type": "stream",
     "text": [
      "['h', 'a', 'n', 'n', 'a', 'H']\n"
     ]
    }
   ],
   "source": [
    "s = [\"H\",\"a\",\"n\",\"n\",\"a\",\"h\"]\n",
    "print(ReverseString(s))"
   ]
  },
  {
   "cell_type": "code",
   "execution_count": 6,
   "id": "6f3df385",
   "metadata": {},
   "outputs": [],
   "source": [
    "# Reverse Integer\n",
    "# Given a signed 32-bit integer x, return x with its digits reversed.\n",
    "# If reversing x causes the value to go outside the signed 32-bit integer range [-2^31, 2^31 - 1], then return 0.\n",
    "\n",
    "def ReverseInteger(x: int) -> int:\n",
    "    if x<0:\n",
    "        x = int(str(x*-1)[::-1])*-1\n",
    "    else:\n",
    "        x = int(str(x)[::-1])\n",
    "    if x >= -2**31 and x <= 2**31-1:\n",
    "        return x\n",
    "    else:\n",
    "        return 0\n"
   ]
  },
  {
   "cell_type": "code",
   "execution_count": 7,
   "id": "d53a5fbb",
   "metadata": {},
   "outputs": [
    {
     "data": {
      "text/plain": [
       "-543"
      ]
     },
     "execution_count": 7,
     "metadata": {},
     "output_type": "execute_result"
    }
   ],
   "source": [
    "x = -345\n",
    "ReverseInteger(x)"
   ]
  },
  {
   "cell_type": "code",
   "execution_count": 3,
   "id": "ec9efe67",
   "metadata": {},
   "outputs": [],
   "source": [
    "# First Unique Character in a String\n",
    "# Given a string s, find the first non-repeating character in it and return its index. If it does not exist, return -1.\n",
    "\n",
    "def UniqueCharacter(s):\n",
    "    x = False\n",
    "    for i in range(len(s)):\n",
    "        if s.count(s[i]) == 1:\n",
    "            return i\n",
    "            x = True\n",
    "            break\n",
    "    if x == False:\n",
    "        return -1   \n",
    "    "
   ]
  },
  {
   "cell_type": "code",
   "execution_count": 4,
   "id": "b3701a3a",
   "metadata": {},
   "outputs": [
    {
     "name": "stdout",
     "output_type": "stream",
     "text": [
      "0\n",
      "2\n",
      "-1\n"
     ]
    }
   ],
   "source": [
    "s = \"leetcode\"\n",
    "print( UniqueCharacter(s))\n",
    "\n",
    "s = \"loveleetcode\"\n",
    "print( UniqueCharacter(s))\n",
    "\n",
    "s = \"aabb\"\n",
    "print( UniqueCharacter(s))"
   ]
  },
  {
   "cell_type": "code",
   "execution_count": 5,
   "id": "7b4e9192",
   "metadata": {},
   "outputs": [],
   "source": [
    "# Valid Anagram\n",
    "# Given two strings s and t, return true if t is an anagram of s, and false otherwise.\n",
    "# An Anagram is a word or phrase formed by rearranging the letters of a different word or phrase,\n",
    "# typically using all the original letters exactly once.\n",
    "def ValidAnagram(s,t):\n",
    "    x = False\n",
    "    if len(t) != len(s):\n",
    "        return x\n",
    "    for i in range(len(s)):\n",
    "        for j in range(len(t)):\n",
    "            if s[i] == t[j]:\n",
    "                if s.count(s[i]) == t.count(t[j]):\n",
    "                    x = True    \n",
    "            else:\n",
    "                x = False\n",
    "    return x       \n",
    "\n"
   ]
  },
  {
   "cell_type": "code",
   "execution_count": 8,
   "id": "d10344a3",
   "metadata": {},
   "outputs": [],
   "source": [
    "def ValidAnagram(s,t):\n",
    "    x = False\n",
    "    if len(t) == len(s):\n",
    "        for i in range(len(s)):\n",
    "            for j in range(len(t)):\n",
    "                if s[i] == t[j]:\n",
    "                    if s.count(s[i]) == t.count(t[j]):\n",
    "                        x = True    \n",
    "                else:\n",
    "                    x = False\n",
    "    return x       \n"
   ]
  },
  {
   "cell_type": "code",
   "execution_count": 9,
   "id": "b34970d0",
   "metadata": {},
   "outputs": [
    {
     "name": "stdout",
     "output_type": "stream",
     "text": [
      "True\n",
      "False\n"
     ]
    }
   ],
   "source": [
    "s = \"anagram\"\n",
    "t = \"nagaram\"\n",
    "\n",
    "print(ValidAnagram(s,t))\n",
    "\n",
    "s = \"carr\"\n",
    "t = \"car\"\n",
    "print(ValidAnagram(s,t))"
   ]
  },
  {
   "cell_type": "code",
   "execution_count": 8,
   "id": "797bb9fd",
   "metadata": {},
   "outputs": [],
   "source": [
    "# Valid Palindrome\n",
    "# A phrase is a palindrome if, after converting all uppercase letters into lowercase letters and \n",
    "# removing all non-alphanumeric characters, it reads the same forward and backward. Alphanumeric \n",
    "# characters include letters and numbers.\n",
    "# Given a string s, return true if it is a palindrome, or false otherwise.\n",
    "\n",
    "def ValidPalindrome(s):\n",
    "    valid = False\n",
    "    s = s.lower()\n",
    "#   s = ''.join(filter(str.isalpha, s))\n",
    "    s = ''.join(filter(str.isalnum, s))\n",
    "    s = ''.join([i for i in s if not i.isdigit()])\n",
    "    if s == s[::-1]:\n",
    "        valid = True\n",
    "    return valid   \n",
    "    "
   ]
  },
  {
   "cell_type": "code",
   "execution_count": 9,
   "id": "8d643021",
   "metadata": {},
   "outputs": [
    {
     "name": "stdout",
     "output_type": "stream",
     "text": [
      "False\n",
      "True\n",
      "False\n"
     ]
    }
   ],
   "source": [
    "s = \"ABCs\"\n",
    "print(ValidPalindrome(s))\n",
    "\n",
    "s = \"A man, a 4567 plan, _+a canal: -0Panama\"\n",
    "print(ValidPalindrome(s))\n",
    "\n",
    "s = \"alphanumeric@123__\"\n",
    "print(ValidPalindrome(s))"
   ]
  },
  {
   "cell_type": "code",
   "execution_count": 38,
   "id": "587921d3",
   "metadata": {},
   "outputs": [],
   "source": [
    "# String to Integer (atoi)\n",
    "# Implement the myAtoi(string s) function, which converts a string to a 32-bit signed integer.\n",
    "# The algorithm for myAtoi(string s) is as follows:\n",
    "# Read in and ignore any leading whitespace.\n",
    "# Check if the next character (if not already at the end of the string) is '-' or '+'. Read this character in if it is either. This determines if the final result is negative or positive respectively. Assume the result is positive if neither is present.\n",
    "# Read in next the characters until the next non-digit character or the end of the input is reached. The rest of the string is ignored.\n",
    "# Convert these digits into an integer (i.e. \"123\" -> 123, \"0032\" -> 32). If no digits were read, then the integer is 0. Change the sign as necessary (from step 2).\n",
    "# If the integer is out of the 32-bit signed integer range [-231, 231 - 1], then clamp the integer so that it remains in the range. Specifically, integers less than -231 should be clamped to -231, and integers greater than 231 - 1 should be clamped to 231 - 1.\n",
    "# Return the integer as the final result.\n",
    "# Note:\n",
    "# Only the space character ' ' is considered a whitespace character.\n",
    "# Do not ignore any characters other than the leading whitespace or the rest of the string after the digits.\n",
    "\n",
    "def atoi(s):\n",
    "    s = s.strip()\n",
    "    sign=1\n",
    "    if s[0] == '-':\n",
    "        sign = -1\n",
    "    s=''.join([char for char in s if char.isdigit()])\n",
    "    if len(s) == 0:\n",
    "        return 0\n",
    "    for i in range(len(s)):\n",
    "        if s[i]== '0':\n",
    "            s = s.replace(s[i],'')\n",
    "        else:\n",
    "            num = int(s) * sign\n",
    "            break\n",
    "    return num, type(num)\n"
   ]
  },
  {
   "cell_type": "code",
   "execution_count": 36,
   "id": "a4fd1f81",
   "metadata": {},
   "outputs": [
    {
     "name": "stdout",
     "output_type": "stream",
     "text": [
      "-07898\n",
      "-07898 = (-7898, <class 'int'>, -1)\n"
     ]
    }
   ],
   "source": [
    "s = '  -07898'\n",
    "s =s.strip()\n",
    "print(s)\n",
    "print(s, '=', atoi(s))"
   ]
  },
  {
   "cell_type": "code",
   "execution_count": 37,
   "id": "87aaf0f1",
   "metadata": {},
   "outputs": [
    {
     "name": "stdout",
     "output_type": "stream",
     "text": [
      "(42, <class 'int'>, 1)\n",
      "(-7898, <class 'int'>, -1)\n"
     ]
    }
   ],
   "source": [
    "s = \"042\"\n",
    "print(atoi(s))\n",
    "\n",
    "s = \"   -07898\"\n",
    "print(atoi(s))"
   ]
  },
  {
   "cell_type": "code",
   "execution_count": 39,
   "id": "56475b94",
   "metadata": {},
   "outputs": [
    {
     "name": "stdout",
     "output_type": "stream",
     "text": [
      "(-7898, <class 'int'>)\n"
     ]
    }
   ],
   "source": [
    "s = \"   -07898\"\n",
    "print(atoi(s))"
   ]
  },
  {
   "cell_type": "code",
   "execution_count": 41,
   "id": "fe877697",
   "metadata": {},
   "outputs": [
    {
     "name": "stdout",
     "output_type": "stream",
     "text": [
      "(4193, <class 'int'>)\n",
      "0\n"
     ]
    }
   ],
   "source": [
    "s = \" 00-4193 with words   \"\n",
    "print(atoi(s))\n",
    "\n",
    "s = '--njjfjqewuehf'\n",
    "print(atoi(s))\n"
   ]
  },
  {
   "cell_type": "code",
   "execution_count": 10,
   "id": "98f8489c",
   "metadata": {},
   "outputs": [],
   "source": [
    "# Implement strStr()\n",
    "# Given two strings needle and haystack, return the index of the first occurrence of needle in haystack,\n",
    "# or -1 if needle is not part of haystack.\n",
    "# What should we return when needle is an empty string? This is a great question to ask during an interview.\n",
    "# For the purpose of this problem, we will return 0 when needle is an empty string. \n",
    "# This is consistent to C's strstr() and Java's indexOf().\n",
    "\n",
    "def strStr(needle, haystack):\n",
    "    ind = -1\n",
    "    if needle in haystack:        \n",
    "        ind = haystack.index(needle) \n",
    "    return ind"
   ]
  },
  {
   "cell_type": "code",
   "execution_count": 11,
   "id": "c4fe4c98",
   "metadata": {},
   "outputs": [
    {
     "name": "stdout",
     "output_type": "stream",
     "text": [
      "-1\n"
     ]
    }
   ],
   "source": [
    "haystack = \"aaaaa\"\n",
    "needle = \"bba\"\n",
    "print(strStr(needle, haystack))"
   ]
  },
  {
   "cell_type": "code",
   "execution_count": 12,
   "id": "0944deb0",
   "metadata": {},
   "outputs": [
    {
     "name": "stdout",
     "output_type": "stream",
     "text": [
      "2\n"
     ]
    }
   ],
   "source": [
    "haystack = \"hello\"\n",
    "needle = \"ll\"\n",
    "print(strStr(needle, haystack))"
   ]
  },
  {
   "cell_type": "code",
   "execution_count": 168,
   "id": "80f9793a",
   "metadata": {},
   "outputs": [],
   "source": [
    "# Longest Common Prefix\n",
    "# Write a function to find the longest common prefix string amongst an array of strings.\n",
    "# If there is no common prefix, return an empty string \"\".\n",
    "                \n",
    "def LongestCommonPrefix(s):\n",
    "    #get the min length string in our list\n",
    "    m = min(len(item) for item in s)\n",
    "    # get the index of the string with min length\n",
    "    for item in range(len(s)):\n",
    "        if len(s[item]) == m:\n",
    "            ind = item \n",
    "\n",
    "    common = []\n",
    "    for char in s[ind]:\n",
    "        kk = s[ind].index(char)\n",
    "        for j in range(m-kk):\n",
    "            for k in range(kk, m):\n",
    "                x = 0\n",
    "                for i in range(len(s)):\n",
    "                    if s[ind][kk:k]  in s[i]:\n",
    "                        x+=1\n",
    "                if x == len(s):\n",
    "                    if (s[ind][kk:k] not in common) and (len(s[ind][kk:k]) > 0) :\n",
    "                        common.append(s[ind][kk:k])\n",
    "    \n",
    "    if len(common)==0:\n",
    "        return 'There is no common prefix among the input strings.'\n",
    "    else:\n",
    "        maxx = max(len(item) for item in common)\n",
    "        for i in range(len(common)):\n",
    "            if len(common[i]) ==maxx:\n",
    "                prefix = common[i]\n",
    "\n",
    "    return prefix , common\n",
    "        "
   ]
  },
  {
   "cell_type": "code",
   "execution_count": 169,
   "id": "8e3767c6",
   "metadata": {},
   "outputs": [
    {
     "name": "stdout",
     "output_type": "stream",
     "text": [
      "('fl', ['f', 'fl', 'l'])\n",
      "There is no common prefix among the input strings.\n",
      "('sc', ['s', 'sc', 'c'])\n",
      "('ca', ['c', 'ca', 'a'])\n"
     ]
    }
   ],
   "source": [
    "s = [\"flower\",\"flow\",\"igflht\"]\n",
    "print(LongestCommonPrefix(s))\n",
    "\n",
    "s = [\"dog\",\"racecar\",\"car\"]\n",
    "print(LongestCommonPrefix(s))\n",
    "\n",
    "s = [\"school\",\"schedule\",\"scotland\"]\n",
    "print(LongestCommonPrefix(s))\n",
    "\n",
    "s= ['car', 'carbon', 'carbonmonoxide'] \n",
    "print(LongestCommonPrefix(s))\n"
   ]
  },
  {
   "cell_type": "code",
   "execution_count": 157,
   "id": "e3a80ade",
   "metadata": {},
   "outputs": [],
   "source": [
    "#Climbing Stairs\n",
    "# You are climbing a staircase. It takes n steps to reach the top.\n",
    "# Each time you can either climb 1 or 2 steps. In how many distinct ways can you climb to the top?\n",
    "\n",
    "def ClimbingStairs(n): \n",
    "    for i in range(n):\n",
    "        for j in range(1, 3):\n",
    "            if \n",
    "    \n",
    "    \n",
    "    "
   ]
  },
  {
   "cell_type": "code",
   "execution_count": 60,
   "id": "b67817be",
   "metadata": {},
   "outputs": [],
   "source": [
    "#Fibonacci\n",
    "\n",
    "def Fibonacci(n):\n",
    "    if n < 0:\n",
    "        print(\"Incorrect input\")\n",
    "    elif n == 0:\n",
    "        return 0\n",
    "    elif n == 1: \n",
    "        return 1\n",
    "    else:\n",
    "        return Fibonacci(n-1) + Fibonacci(n-2)\n",
    "        \n",
    "        \n",
    "def FiboSeries(n):\n",
    "    i = 0\n",
    "    while i < n:\n",
    "        print(Fibonacci(i))\n",
    "        i+=1"
   ]
  },
  {
   "cell_type": "code",
   "execution_count": 61,
   "id": "a06ac889",
   "metadata": {},
   "outputs": [
    {
     "name": "stdout",
     "output_type": "stream",
     "text": [
      "5\n",
      "0\n",
      "1\n",
      "1\n",
      "2\n",
      "3\n",
      "5\n",
      "None\n"
     ]
    }
   ],
   "source": [
    "print(Fibonacci(5))\n",
    "print(FiboSeries(6))\n"
   ]
  },
  {
   "cell_type": "code",
   "execution_count": 23,
   "id": "1b22e73c",
   "metadata": {},
   "outputs": [
    {
     "name": "stdout",
     "output_type": "stream",
     "text": [
      "1234\n"
     ]
    }
   ],
   "source": [
    "n=4\n",
    "num = 0\n",
    "for i in range(n+1):\n",
    "    num += i*10**(n-i)\n",
    "    \n",
    "print(num)\n"
   ]
  },
  {
   "cell_type": "code",
   "execution_count": 43,
   "id": "6336486b",
   "metadata": {},
   "outputs": [
    {
     "name": "stdout",
     "output_type": "stream",
     "text": [
      "[1, ' ', 2, ' ', 3, ' ', 4, ' ']\n"
     ]
    },
    {
     "data": {
      "text/plain": [
       "[1, 2, 3, 4, ' ']"
      ]
     },
     "execution_count": 43,
     "metadata": {},
     "output_type": "execute_result"
    }
   ],
   "source": [
    "l1 = \"1 2 3 4 \"\n",
    "l1.split()\n",
    "x = map(int, l1.split())\n",
    "l = []\n",
    "for i in x:\n",
    "    l.append(i)\n",
    "    l.append(' ')\n",
    "print (l)\n"
   ]
  },
  {
   "cell_type": "code",
   "execution_count": 1,
   "id": "cd72bc49",
   "metadata": {},
   "outputs": [
    {
     "ename": "NameError",
     "evalue": "name 'x' is not defined",
     "output_type": "error",
     "traceback": [
      "\u001b[1;31m---------------------------------------------------------------------------\u001b[0m",
      "\u001b[1;31mNameError\u001b[0m                                 Traceback (most recent call last)",
      "\u001b[1;32m~\\AppData\\Local\\Temp/ipykernel_28804/4155592096.py\u001b[0m in \u001b[0;36m<module>\u001b[1;34m\u001b[0m\n\u001b[1;32m----> 1\u001b[1;33m \u001b[0mprint\u001b[0m\u001b[1;33m(\u001b[0m\u001b[0msorted\u001b[0m\u001b[1;33m(\u001b[0m\u001b[0mlist\u001b[0m\u001b[1;33m(\u001b[0m\u001b[0mset\u001b[0m\u001b[1;33m(\u001b[0m\u001b[0mx\u001b[0m\u001b[1;33m)\u001b[0m\u001b[1;33m)\u001b[0m\u001b[1;33m)\u001b[0m\u001b[1;33m[\u001b[0m\u001b[1;33m-\u001b[0m\u001b[1;36m2\u001b[0m\u001b[1;33m]\u001b[0m\u001b[1;33m)\u001b[0m\u001b[1;33m\u001b[0m\u001b[1;33m\u001b[0m\u001b[0m\n\u001b[0m",
      "\u001b[1;31mNameError\u001b[0m: name 'x' is not defined"
     ]
    }
   ],
   "source": [
    "print(sorted(list(set(x)))[-2])"
   ]
  },
  {
   "cell_type": "code",
   "execution_count": 62,
   "id": "4632ee52",
   "metadata": {},
   "outputs": [],
   "source": [
    "def CheckNumbers (x):\n",
    "    for i in range(len(x)):\n",
    "        check = False\n",
    "        for j in range(len(x[0]) -1):\n",
    "            if x[i][j] > x[i][j+1]:\n",
    "                check = False\n",
    "                break\n",
    "            elif x[i][j] < x[i][j+1]:\n",
    "                check = True\n",
    "        if check ==True :\n",
    "            return i ,  x[i]\n",
    " "
   ]
  },
  {
   "cell_type": "code",
   "execution_count": 64,
   "id": "3c085513",
   "metadata": {},
   "outputs": [
    {
     "name": "stdout",
     "output_type": "stream",
     "text": [
      "4\n",
      "5\n",
      "(4, [0, 0, 1, 1])\n"
     ]
    }
   ],
   "source": [
    "x = [ [0,0,0,0]\n",
    "     ,[1,0,1,0]\n",
    "     ,[0,1,0,1]\n",
    "     ,[0,1,1,0]\n",
    "     ,[0,0,1,1]]\n",
    "\n",
    "columns = len (x[0])\n",
    "rows = len(x)\n",
    "print(columns)\n",
    "print(rows)\n",
    "\n",
    "print(CheckNumbers (x))\n"
   ]
  },
  {
   "cell_type": "code",
   "execution_count": 2,
   "id": "4560577b",
   "metadata": {},
   "outputs": [],
   "source": [
    "#If Fibonacci\n",
    "\n",
    "def Fibonacci(n):\n",
    "    if n < 0:\n",
    "        print(\"Incorrect input\")\n",
    "    elif n == 0:\n",
    "        return 0\n",
    "    elif n == 1: \n",
    "        return 1\n",
    "    else:\n",
    "        return Fibonacci(n-1) + Fibonacci(n-2)\n",
    "    \n",
    "\n",
    "def IfFibo(x):\n",
    "    valid = False\n",
    "    for i in range(x+1):\n",
    "        if x ==Fibonacci(i):\n",
    "            valid =True\n",
    "            break\n",
    "    return valid\n",
    "     "
   ]
  },
  {
   "cell_type": "code",
   "execution_count": 3,
   "id": "a4180d68",
   "metadata": {},
   "outputs": [
    {
     "name": "stdout",
     "output_type": "stream",
     "text": [
      "True\n"
     ]
    }
   ],
   "source": [
    "print(IfFibo(5))"
   ]
  },
  {
   "cell_type": "code",
   "execution_count": 17,
   "id": "6aec746d",
   "metadata": {},
   "outputs": [],
   "source": [
    "# Hard\n",
    "# Largest Number\n",
    "# Given a list of non-negative integers nums, arrange them such that they form the largest number and return it.\n",
    "# Since the result may be very large, so you need to return a string instead of an integer.\n",
    "\n",
    "def LargestNumber(x):\n",
    "    xx = []\n",
    "    for i in range(len(x)):\n",
    "        xx += [str(x[i])]\n",
    "    xx.sort(reverse=True)\n",
    "    c = ''\n",
    "    for i in xx:\n",
    "        c += i\n",
    "    return c\n"
   ]
  },
  {
   "cell_type": "code",
   "execution_count": 20,
   "id": "17d50721",
   "metadata": {},
   "outputs": [
    {
     "name": "stdout",
     "output_type": "stream",
     "text": [
      "9198031110\n"
     ]
    }
   ],
   "source": [
    "x = [10, 91, 9 , 3, 80, 11]\n",
    "        \n",
    "print(LargestNumber(x))\n"
   ]
  },
  {
   "cell_type": "code",
   "execution_count": 7,
   "id": "50d3df76",
   "metadata": {},
   "outputs": [],
   "source": [
    "# Hard\n",
    "# Max Points on a Line\n",
    "# Given an array of points where points[i] = [xi, yi] represents a point on the X-Y plane,\n",
    "# return the maximum number of points that lie on the same straight line.\n",
    "def MaxPoints(p):\n",
    "    if len(p) <2:\n",
    "        return None\n",
    "    else:\n",
    "        count = 2\n",
    "        for i in range(len(p)-2):\n",
    "            if (p[i+1][1]-p[i][1]) / (p[i+1][0]-p[i][0]) == (p[i+2][1]-p[i+1][1]) / (p[i+2][0]-p[i+1][0]):\n",
    "                count+=1\n",
    "        return count    "
   ]
  },
  {
   "cell_type": "code",
   "execution_count": 8,
   "id": "254a848d",
   "metadata": {},
   "outputs": [
    {
     "name": "stdout",
     "output_type": "stream",
     "text": [
      "3\n"
     ]
    }
   ],
   "source": [
    "p= [ [1,1],[2,2],[3,3]]\n",
    "print(MaxPoints(p))\n"
   ]
  },
  {
   "cell_type": "code",
   "execution_count": 10,
   "id": "3667e47b",
   "metadata": {},
   "outputs": [
    {
     "name": "stdout",
     "output_type": "stream",
     "text": [
      "4\n"
     ]
    }
   ],
   "source": [
    "p= [[1,1],[3,2],[5,3],[4,1],[2,3],[1,4]]\n",
    "print(MaxPoints(p))"
   ]
  },
  {
   "cell_type": "code",
   "execution_count": 59,
   "id": "6120393a",
   "metadata": {},
   "outputs": [],
   "source": [
    "# 15. 3Sum\n",
    "def threeSum(nums):\n",
    "    n = len(nums)\n",
    "    s = []\n",
    "    result = []\n",
    "    for i in range(n):\n",
    "        for j in range(i+1 , n):\n",
    "            for k in range(j+1 , n):\n",
    "                if nums[i] + nums[j]+nums[k] == 0:\n",
    "                    s.append(nums[i])\n",
    "                    s.append(nums[j])\n",
    "                    s.append(nums[k])\n",
    "                    result.append(s)\n",
    "                    s=[]\n",
    "                break\n",
    "\n",
    "    return result\n",
    "        \n",
    "        "
   ]
  },
  {
   "cell_type": "code",
   "execution_count": 62,
   "id": "a1ac99b6",
   "metadata": {},
   "outputs": [
    {
     "name": "stdout",
     "output_type": "stream",
     "text": [
      "[[-1, 0, 1], [-1, 2, -1]]\n",
      "[]\n"
     ]
    }
   ],
   "source": [
    "nums = [-1,0,1,2,-1,-4]\n",
    "print(threeSum(nums))\n",
    "\n",
    "nums = []\n",
    "print(threeSum(nums))"
   ]
  },
  {
   "cell_type": "code",
   "execution_count": 6,
   "id": "6bf55544",
   "metadata": {},
   "outputs": [],
   "source": [
    "# 5. Longest Palindromic Substring\n",
    "# Given a string s, return the longest palindromic substring in s.\n",
    "\n",
    "s = \"babad\"\n",
    "\n",
    "def longestPalindrome(s):\n",
    "    x =''\n",
    "    output = ['']\n",
    "    for i in range(len(s)):\n",
    "        for j in range(i+1, len(s)):\n",
    "            if s[i:j]+s[j] == s[j]+s[i:j][::-1]:\n",
    "                x+=s[i:j]+s[j]\n",
    "                if (len(x) > len(output[0])):\n",
    "                    output[0]=x\n",
    "                x=''\n",
    "    return output\n"
   ]
  },
  {
   "cell_type": "code",
   "execution_count": 7,
   "id": "c4d07524",
   "metadata": {},
   "outputs": [
    {
     "name": "stdout",
     "output_type": "stream",
     "text": [
      "['bab']\n"
     ]
    }
   ],
   "source": [
    "s = \"babdd\"\n",
    "print(longestPalindrome(s))"
   ]
  },
  {
   "cell_type": "code",
   "execution_count": 10,
   "id": "332b5d9b",
   "metadata": {},
   "outputs": [
    {
     "name": "stdout",
     "output_type": "stream",
     "text": [
      "['bb']\n"
     ]
    }
   ],
   "source": [
    "s = \"cbbd\"\n",
    "print(longestPalindrome(s))\n"
   ]
  },
  {
   "cell_type": "code",
   "execution_count": 18,
   "id": "41828978",
   "metadata": {},
   "outputs": [],
   "source": [
    "# 11. Container With Most Water\n",
    "def maxArea(h):\n",
    "    container=0\n",
    "    for i in range(len(h)):\n",
    "        for j in range(i+1, len(h)):\n",
    "            x = (j-i)*(min(h[i], h[j]))\n",
    "            if x > container:\n",
    "                container = x\n",
    "    return container\n",
    "           "
   ]
  },
  {
   "cell_type": "code",
   "execution_count": 21,
   "id": "d8c93bc8",
   "metadata": {},
   "outputs": [
    {
     "name": "stdout",
     "output_type": "stream",
     "text": [
      "49\n",
      "1\n"
     ]
    }
   ],
   "source": [
    "h = [1,8,6,2,5,4,8,3,7]\n",
    "print(maxArea(h))\n",
    "\n",
    "h = [1,1]\n",
    "print(maxArea(h))"
   ]
  },
  {
   "cell_type": "code",
   "execution_count": 28,
   "id": "458d5a0a",
   "metadata": {},
   "outputs": [],
   "source": [
    "# 17. Letter Combinations of a Phone Number\n",
    "d = {2:'abc', 3:'def', 4:'ghi', 5:'jkl', 6:'mno', 7:'pqrs', 8:'tuv', 9:'wxyz'}\n",
    "\n"
   ]
  },
  {
   "cell_type": "code",
   "execution_count": 69,
   "id": "a0eff979",
   "metadata": {},
   "outputs": [],
   "source": [
    "digits = \"23\"\n",
    "\n",
    "def letterCombinations(digits):\n",
    "    num = []\n",
    "    for i in digits:\n",
    "        num.append(int(i)) # num = [2,3]\n",
    "    s= ''\n",
    "    output = []\n",
    "    for i in range(len(num)-1): \n",
    "        for j in range(len(d[num[i]])): \n",
    "            for k in range(len(d[num[i+1]])):\n",
    "                s+= d[num[i]][j]+d[num[i+1]][k]\n",
    "                output.append(s)\n",
    "                s=''\n",
    "    return output   \n",
    "        "
   ]
  },
  {
   "cell_type": "code",
   "execution_count": 71,
   "id": "97f9aee2",
   "metadata": {},
   "outputs": [
    {
     "name": "stdout",
     "output_type": "stream",
     "text": [
      "['ad', 'ae', 'af', 'bd', 'be', 'bf', 'cd', 'ce', 'cf']\n"
     ]
    }
   ],
   "source": [
    "print(letterCombinations(digits))"
   ]
  },
  {
   "cell_type": "code",
   "execution_count": 79,
   "id": "25659602",
   "metadata": {},
   "outputs": [],
   "source": [
    "# 19. Remove Nth Node From End of List\n",
    "# Given the head of a linked list, remove the nth node from the end of the list and return its head.\n",
    "\n",
    "def removeNthFromEnd(head, n):\n",
    "    del(head[-1*n])\n",
    "    return head\n",
    " "
   ]
  },
  {
   "cell_type": "code",
   "execution_count": 81,
   "id": "ba3f4918",
   "metadata": {},
   "outputs": [
    {
     "name": "stdout",
     "output_type": "stream",
     "text": [
      "[1, 2, 3, 5]\n"
     ]
    }
   ],
   "source": [
    "head = [1,2,3,4,5]\n",
    "n = 2\n",
    "print(removeNthFromEnd(head, n))"
   ]
  },
  {
   "cell_type": "code",
   "execution_count": 83,
   "id": "612ebb4e",
   "metadata": {},
   "outputs": [
    {
     "ename": "SyntaxError",
     "evalue": "invalid syntax (Temp/ipykernel_17412/69551576.py, line 9)",
     "output_type": "error",
     "traceback": [
      "\u001b[1;36m  File \u001b[1;32m\"C:\\Users\\mehrn\\AppData\\Local\\Temp/ipykernel_17412/69551576.py\"\u001b[1;36m, line \u001b[1;32m9\u001b[0m\n\u001b[1;33m    s +=\u001b[0m\n\u001b[1;37m          ^\u001b[0m\n\u001b[1;31mSyntaxError\u001b[0m\u001b[1;31m:\u001b[0m invalid syntax\n"
     ]
    }
   ],
   "source": [
    "# 22. Generate Parentheses\n",
    "# Given n pairs of parentheses, write a function to generate all combinations of well-formed parentheses.\n",
    "\n",
    "def generateParenthesis(n):\n",
    "    opn = n\n",
    "    cls = n\n",
    "    s = ''\n",
    "    output = []\n",
    "    \n",
    "    for i in range(n):\n",
    "        for k in range(2):\n",
    "            s += '(' \n"
   ]
  },
  {
   "cell_type": "code",
   "execution_count": 87,
   "id": "d8352304",
   "metadata": {},
   "outputs": [
    {
     "data": {
      "text/plain": [
       "'('"
      ]
     },
     "execution_count": 87,
     "metadata": {},
     "output_type": "execute_result"
    }
   ],
   "source": [
    "p = ['(', ')']\n",
    "p[0]"
   ]
  },
  {
   "cell_type": "code",
   "execution_count": 1,
   "id": "9832ead4",
   "metadata": {},
   "outputs": [],
   "source": [
    "# def generateParenthesis(N: int) -> List[str]:\n",
    "#         ans, m = [], 2 * N\n",
    "\n",
    "#         def dfs(pos: int, opn: int, seq: int) -> None:\n",
    "#             if pos == m:\n",
    "#                 res = [0] * m\n",
    "#                 for i in range(m):\n",
    "#                     res[i] = \"(\" if seq & 1 << i else \")\"\n",
    "#                 ans.append(\"\".join(res))\n",
    "#                 return\n",
    "#             if opn: dfs(pos+1, opn-1, seq)\n",
    "#             if m - pos > opn: dfs(pos+1, opn+1, seq | 1 << pos)\n",
    "\n",
    "#         dfs(0, 0, 0)\n",
    "#         return ans\n",
    "    "
   ]
  },
  {
   "cell_type": "code",
   "execution_count": 94,
   "id": "fa491b93",
   "metadata": {},
   "outputs": [],
   "source": [
    "# 34. Find First and Last Position of Element in Sorted Array\n",
    "\n",
    "def searchRange(nums, target):\n",
    "    if target not in nums:\n",
    "        return [-1, -1]\n",
    "    s =[]\n",
    "    l = []\n",
    "    for i in range(len(nums)):\n",
    "        if nums[i] == target:\n",
    "            s.append(i)\n",
    "    l.append(s[0])\n",
    "    l.append(s[-1])\n",
    "    return l\n",
    "            "
   ]
  },
  {
   "cell_type": "code",
   "execution_count": 101,
   "id": "6362bf9b",
   "metadata": {},
   "outputs": [
    {
     "name": "stdout",
     "output_type": "stream",
     "text": [
      "[2, 5]\n",
      "[-1, -1]\n",
      "[-1, -1]\n"
     ]
    }
   ],
   "source": [
    "nums = [5,7,8,7,8,8,10]\n",
    "target = 8\n",
    "print(searchRange(nums, target))\n",
    "\n",
    "nums = []\n",
    "target = 0\n",
    "print(searchRange(nums, target))\n",
    "\n",
    "nums = [5,7,7,8,8,10]\n",
    "target = 6\n",
    "print(searchRange(nums, target))"
   ]
  },
  {
   "cell_type": "code",
   "execution_count": 125,
   "id": "8a591626",
   "metadata": {},
   "outputs": [],
   "source": [
    "# 29. Divide Two Integers\n",
    "def Divide(dividend, divisor):\n",
    "    if divisor !=0:\n",
    "        x = int(dividend/divisor)\n",
    "    return x"
   ]
  },
  {
   "cell_type": "code",
   "execution_count": 130,
   "id": "49064d3b",
   "metadata": {},
   "outputs": [
    {
     "name": "stdout",
     "output_type": "stream",
     "text": [
      "3\n",
      "-2\n"
     ]
    }
   ],
   "source": [
    "dividend = 10\n",
    "divisor = 3\n",
    "print(Divide(dividend, divisor))\n",
    "\n",
    "dividend = 7\n",
    "divisor = -3\n",
    "print(Divide(dividend, divisor))"
   ]
  },
  {
   "cell_type": "code",
   "execution_count": 136,
   "id": "4afd38e0",
   "metadata": {},
   "outputs": [],
   "source": [
    "# 46. Permutations\n",
    "# Given an array nums of distinct integers, return all the possible permutations. You can return the answer in any order.\n",
    "def permute(nums):\n",
    "    s = []\n",
    "    l = []\n",
    "    for i in range(len(nums)):\n",
    "        s.append(nums[i])\n",
    "        \n",
    "\n",
    "        l.append(s)\n",
    "        s = []\n",
    "            "
   ]
  },
  {
   "cell_type": "code",
   "execution_count": 142,
   "id": "83096fa4",
   "metadata": {},
   "outputs": [
    {
     "name": "stdout",
     "output_type": "stream",
     "text": [
      "1024.0\n",
      "0.25\n"
     ]
    }
   ],
   "source": [
    "# 50. Pow(x, n)\n",
    "# Implement pow(x, n), which calculates x raised to the power n (i.e., xn).\n",
    "\n",
    "def myPow(x, n):\n",
    "    return x**n\n",
    "    \n",
    "x = 2.00000\n",
    "n = 10\n",
    "print(myPow(x, n))\n",
    "\n",
    "x = 2.00000\n",
    "n = -2 \n",
    "print(myPow(x, n))\n",
    "   "
   ]
  },
  {
   "cell_type": "code",
   "execution_count": 211,
   "id": "1e0f617c",
   "metadata": {},
   "outputs": [],
   "source": [
    "# 49. Group Anagrams\n",
    "# Given an array of strings strs, group the anagrams together. You can return the answer in any order.\n",
    "# An Anagram is a word or phrase formed by rearranging the letters of a different word or phrase, \n",
    "# typically using all the original letters exactly once.\n",
    "\n",
    "def groupAnagrams(strs):\n",
    "    listt = []\n",
    "    dont=[]\n",
    "    for i in range(len(strs)):\n",
    "        s=[]\n",
    "        s.append(strs[i])\n",
    "        same =True\n",
    "        if i not in dont:\n",
    "            for k in range(i+1, len(strs)):\n",
    "                for j in strs[i]:\n",
    "                    if j not in strs[k]:\n",
    "                        same = False\n",
    "                if same == True:\n",
    "                    s.append(strs[k])\n",
    "                    dont.append(k)\n",
    "                same = True\n",
    "            listt.append(s)\n",
    "    return listt\n"
   ]
  },
  {
   "cell_type": "code",
   "execution_count": 213,
   "id": "51d1a310",
   "metadata": {},
   "outputs": [
    {
     "name": "stdout",
     "output_type": "stream",
     "text": [
      "[['eat', 'tea', 'ate'], ['tan', 'nat'], ['bat']]\n"
     ]
    }
   ],
   "source": [
    "strs = [\"eat\",\"tea\",\"tan\",\"ate\",\"nat\",\"bat\"]\n",
    "print(groupAnagrams(strs))"
   ]
  },
  {
   "cell_type": "code",
   "execution_count": 230,
   "id": "be338fc9",
   "metadata": {},
   "outputs": [],
   "source": [
    "# 73. Set Matrix Zeroes\n",
    "# Given an m x n integer matrix matrix, if an element is 0, set its entire row and column to 0's. You must do it in place.\n",
    "def setZeroes(matrix):\n",
    "    columns = []\n",
    "    rows = []\n",
    "    for i in range(len(matrix)):\n",
    "        for j in range(len(matrix[0])):\n",
    "            if matrix[i][j]== 0:\n",
    "                columns.append(j)\n",
    "                rows.append(i)\n",
    "    for i in rows:\n",
    "        for j in range(len(matrix[0])):\n",
    "            matrix[i][j]= 0\n",
    "    for j in columns:\n",
    "        for i in range(len(matrix)):\n",
    "            matrix[i][j]= 0\n",
    "    return matrix      \n"
   ]
  },
  {
   "cell_type": "code",
   "execution_count": 231,
   "id": "39ed3e1b",
   "metadata": {},
   "outputs": [
    {
     "name": "stdout",
     "output_type": "stream",
     "text": [
      "[[1, 0, 1], [0, 0, 0], [1, 0, 1]]\n"
     ]
    }
   ],
   "source": [
    "matrix = [[1,1,1],[1,0,1],[1,1,1]]\n",
    "print(setZeroes(matrix))"
   ]
  },
  {
   "cell_type": "code",
   "execution_count": 282,
   "id": "35df02db",
   "metadata": {},
   "outputs": [],
   "source": [
    "# 75. Sort Colors\n",
    "# Given an array nums with n objects colored red, white, or blue, sort them in-place so that objects of the same\n",
    "# color are adjacent, with the colors in the order red, white, and blue.\n",
    "# We will use the integers 0, 1, and 2 to represent the color red, white, and blue, respectively.\n",
    "# You must solve this problem without using the library's sort function.\n",
    "\n",
    "def sortColors(nums):\n",
    "    for i in range(len(nums)):\n",
    "        m = min(nums[i:])\n",
    "        for j in range(i, len(nums)):\n",
    "            if m == nums[j]:\n",
    "                nums[j], nums[i] = nums[i], nums[j]\n",
    "    return nums\n",
    " "
   ]
  },
  {
   "cell_type": "code",
   "execution_count": 287,
   "id": "43c2cf95",
   "metadata": {},
   "outputs": [
    {
     "name": "stdout",
     "output_type": "stream",
     "text": [
      "[0, 0, 1, 1, 1, 2, 2]\n",
      "[0, 0, 1, 1, 2, 2]\n",
      "[0, 1, 2]\n"
     ]
    }
   ],
   "source": [
    "nums = [2,0,2,1,1,1,0]\n",
    "print(sortColors(nums))\n",
    "\n",
    "nums = [0,2,2,1,1,0]\n",
    "print(sortColors(nums))\n",
    "\n",
    "nums = [2,0,1]\n",
    "print(sortColors(nums))"
   ]
  },
  {
   "cell_type": "code",
   "execution_count": 288,
   "id": "2e463f12",
   "metadata": {},
   "outputs": [],
   "source": [
    "# 78. Subsets\n",
    "# Given an integer array nums of unique elements, return all possible subsets (the power set).\n",
    "# The solution set must not contain duplicate subsets. Return the solution in any orde\n",
    "def subsets(nums): \n",
    "        res = [[]]\n",
    "        for num in nums:\n",
    "            res += [item+[num] for item in res]\n",
    "        return res"
   ]
  },
  {
   "cell_type": "code",
   "execution_count": null,
   "id": "db75d1a6",
   "metadata": {},
   "outputs": [],
   "source": [
    "nums = [1,2,3]\n",
    "print(subsets(nums))"
   ]
  },
  {
   "cell_type": "code",
   "execution_count": 1,
   "id": "a5981489",
   "metadata": {},
   "outputs": [],
   "source": [
    "def Exist(board, word):\n",
    "    for i in range(len(board)):\n",
    "        for j in range(len(board[0])):\n",
    "            if board[i][j] in word:\n",
    "                valid = True\n",
    "            else:\n",
    "                valid = False"
   ]
  },
  {
   "cell_type": "code",
   "execution_count": 5,
   "id": "f68143c7",
   "metadata": {},
   "outputs": [],
   "source": [
    "# Product of Array Except Self\n",
    "# Given an integer array nums, return an array answer such that answer[i] is equal to the product of \n",
    "# all the elements of nums except nums[i].\n",
    "\n",
    "def productExceptSelf(nums):\n",
    "    product = [1]*len(nums)\n",
    "    for i in range(len(nums)):\n",
    "        for j in range(len(nums)):\n",
    "            if j!=i:\n",
    "                product[i] *= nums[j] \n",
    "    return product\n",
    "\n",
    "\n"
   ]
  },
  {
   "cell_type": "code",
   "execution_count": 8,
   "id": "6c8bbf94",
   "metadata": {},
   "outputs": [
    {
     "name": "stdout",
     "output_type": "stream",
     "text": [
      "[24, 12, 8, 6]\n",
      "[0, 0, 9, 0, 0]\n"
     ]
    }
   ],
   "source": [
    "nums = [1,2,3,4]\n",
    "print( productExceptSelf(nums))\n",
    "\n",
    "nums = [-1,1,0,-3,3]\n",
    "print( productExceptSelf(nums))"
   ]
  },
  {
   "cell_type": "code",
   "execution_count": 104,
   "id": "1d420552",
   "metadata": {},
   "outputs": [],
   "source": [
    "# Spiral Matrix\n",
    "# Given an m x n matrix, return all elements of the matrix in spiral order.\n",
    "\n",
    "def spiralOrder(matrix):\n",
    "    n = len(matrix)\n",
    "    listt = []\n",
    "    i = 0\n",
    "    j = 0\n",
    "    dirr = [1, -1 , 1]\n",
    "    \n",
    "    for item in dirr:\n",
    "        if item > 0:\n",
    "            while j < n:\n",
    "                listt.append(matrix[i][j])\n",
    "                j += item\n",
    "                if len(listt)== n*2:\n",
    "                    break\n",
    "            j -= 1\n",
    "            i += item\n",
    "            while i < n:\n",
    "                listt.append(matrix[i][j])\n",
    "                i += item\n",
    "            i -= 1 \n",
    "            \n",
    "        if item < 0:\n",
    "            j += item\n",
    "            while j >= 0:\n",
    "                listt.append(matrix[i][j])\n",
    "                j += item\n",
    "            j += 1\n",
    "            i += item\n",
    "            while i > 0:\n",
    "                listt.append(matrix[i][j])\n",
    "                i += item\n",
    "            i += 1\n",
    "            j+= 1\n",
    "    return listt\n",
    "   "
   ]
  },
  {
   "cell_type": "code",
   "execution_count": 110,
   "id": "3b22612d",
   "metadata": {},
   "outputs": [
    {
     "name": "stdout",
     "output_type": "stream",
     "text": [
      "[1, 2, 3, 4, 5, 6, 7, 8, 9, 10, 11, 12, 13, 14, 5, 6, 7]\n"
     ]
    }
   ],
   "source": [
    "matrix = [[1,2,3,4],\n",
    "     [12,13,14,5],\n",
    "     [11,16,15,6],\n",
    "     [10,9,8,7]]\n",
    "print( spiralOrder(matrix))"
   ]
  },
  {
   "cell_type": "code",
   "execution_count": 119,
   "id": "4f1f2b47",
   "metadata": {},
   "outputs": [],
   "source": [
    "# 4Sum II\n",
    "# Given four integer arrays nums1, nums2, nums3, and nums4 all of length n, \n",
    "# return the number of tuples (i, j, k, l) such that:\n",
    "# 0 <= i, j, k, l < n\n",
    "# nums1[i] + nums2[j] + nums3[k] + nums4[l] == 0\n",
    "\n",
    "def fourSumCount(nums1, nums2, nums3, nums4):\n",
    "    s = []\n",
    "    listt = []\n",
    "    count = 0\n",
    "    n = len(nums1)\n",
    "    for i in range(n):\n",
    "        for j in range(n):\n",
    "            for k in range(n):\n",
    "                for l in range(n):\n",
    "                    if nums1[i] + nums2[j] + nums3[k] + nums4[l] == 0:\n",
    "                        count += 1\n",
    "                        s.append(i)\n",
    "                        s.append(j)\n",
    "                        s.append(k)\n",
    "                        s.append(l)\n",
    "        listt.append(s)\n",
    "        s =[]\n",
    "    return count, listt"
   ]
  },
  {
   "cell_type": "code",
   "execution_count": 120,
   "id": "01ca4583",
   "metadata": {},
   "outputs": [
    {
     "name": "stdout",
     "output_type": "stream",
     "text": [
      "(2, [[0, 0, 0, 1], [1, 1, 0, 0]])\n"
     ]
    }
   ],
   "source": [
    "nums1 = [1,2]\n",
    "nums2 = [-2,-1]\n",
    "nums3 = [-1,2]\n",
    "nums4 = [0,2]\n",
    "print(fourSumCount(nums1, nums2, nums3, nums4))"
   ]
  },
  {
   "cell_type": "code",
   "execution_count": 122,
   "id": "a1fb9bc6",
   "metadata": {},
   "outputs": [
    {
     "name": "stdout",
     "output_type": "stream",
     "text": [
      "(1, [[0, 0, 0, 0]])\n"
     ]
    }
   ],
   "source": [
    "nums1 = [0]\n",
    "nums2 = [0]\n",
    "nums3 = [0]\n",
    "nums4 = [0]\n",
    "print(fourSumCount(nums1, nums2, nums3, nums4))"
   ]
  },
  {
   "cell_type": "code",
   "execution_count": 5,
   "id": "9c90bc2e",
   "metadata": {},
   "outputs": [],
   "source": [
    "def firstMissingPositive(nums):\n",
    "    n = len(nums)\n",
    "    a = n-1\n",
    "    for i in range(n-1):\n",
    "        if nums[i]< nums[a]:\n",
    "            a = i\n",
    "    return a"
   ]
  },
  {
   "cell_type": "code",
   "execution_count": 6,
   "id": "1ce470fb",
   "metadata": {},
   "outputs": [
    {
     "name": "stdout",
     "output_type": "stream",
     "text": [
      "0\n",
      "2\n",
      "2\n",
      "0\n"
     ]
    }
   ],
   "source": [
    "nums = [0,2,3]\n",
    "print(firstMissingPositive(nums))\n",
    "\n",
    "nums = [3,4,-1,1]\n",
    "print(firstMissingPositive(nums))\n",
    "\n",
    "nums = [1,2,0]\n",
    "print(firstMissingPositive(nums))\n",
    "\n",
    "nums = [7,8,9,11,12]\n",
    "print(firstMissingPositive(nums))"
   ]
  }
 ],
 "metadata": {
  "kernelspec": {
   "display_name": "Python 3 (ipykernel)",
   "language": "python",
   "name": "python3"
  },
  "language_info": {
   "codemirror_mode": {
    "name": "ipython",
    "version": 3
   },
   "file_extension": ".py",
   "mimetype": "text/x-python",
   "name": "python",
   "nbconvert_exporter": "python",
   "pygments_lexer": "ipython3",
   "version": "3.9.7"
  }
 },
 "nbformat": 4,
 "nbformat_minor": 5
}
