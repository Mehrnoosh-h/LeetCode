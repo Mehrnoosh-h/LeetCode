{
 "cells": [
  {
   "cell_type": "code",
   "execution_count": 1,
   "id": "c1eb7904",
   "metadata": {},
   "outputs": [],
   "source": [
    "# Roman Numbers:\n",
    "\n",
    "roman = {'I':1, 'V':5, 'X':10, 'L':50, 'C':100, 'D':500, 'M':1000}\n",
    "\n",
    "class RomanNumbers:\n",
    "    def RomanToInt (self, s:str) -> int:\n",
    "        n = len(s)\n",
    "        num = roman[s[n-1]]\n",
    "        \n",
    "        for i in range(n-2, -1, -1):\n",
    "            if roman[s[i]] >= roman[s[i+1]]:\n",
    "                num += roman[s[i]]\n",
    "            else:\n",
    "                num -= roman[s[i]]\n",
    "        \n",
    "        return num       \n"
   ]
  }
 ],
 "metadata": {
  "kernelspec": {
   "display_name": "Python 3 (ipykernel)",
   "language": "python",
   "name": "python3"
  },
  "language_info": {
   "codemirror_mode": {
    "name": "ipython",
    "version": 3
   },
   "file_extension": ".py",
   "mimetype": "text/x-python",
   "name": "python",
   "nbconvert_exporter": "python",
   "pygments_lexer": "ipython3",
   "version": "3.9.7"
  }
 },
 "nbformat": 4,
 "nbformat_minor": 5
}
